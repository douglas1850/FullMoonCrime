{
 "cells": [
  {
   "cell_type": "markdown",
   "metadata": {},
   "source": [
    "# Does the phase of the Moon effect the rate of crime in Austin, TX?\n",
    "\n",
    "I will be using a dataset from kaggle.com of Austin crime statstics from 2014-2015 to analyze the effect the Moon has on the rate of crime. I will also further analyze if it effects violent crime or non-violent crime disproportianately. Lastly, I will analyze if crime rates simply increase or decrease with the amount of moonlight."
   ]
  },
  {
   "cell_type": "code",
   "execution_count": 3,
   "metadata": {
    "collapsed": true
   },
   "outputs": [],
   "source": [
    "import numpy as np\n",
    "import pandas as pd\n",
    "import datetime"
   ]
  },
  {
   "cell_type": "code",
   "execution_count": 4,
   "metadata": {
    "collapsed": true
   },
   "outputs": [],
   "source": [
    "import seaborn as sns\n",
    "import matplotlib.pyplot as plt\n",
    "%matplotlib inline"
   ]
  },
  {
   "cell_type": "code",
   "execution_count": 121,
   "metadata": {
    "collapsed": true
   },
   "outputs": [],
   "source": [
    "df = pd.read_csv('austin_crime.csv')\n",
    "#Get rid of warning messages\n",
    "import warnings\n",
    "warnings.filterwarnings('ignore')"
   ]
  },
  {
   "cell_type": "code",
   "execution_count": 6,
   "metadata": {},
   "outputs": [
    {
     "data": {
      "text/html": [
       "<div>\n",
       "<style scoped>\n",
       "    .dataframe tbody tr th:only-of-type {\n",
       "        vertical-align: middle;\n",
       "    }\n",
       "\n",
       "    .dataframe tbody tr th {\n",
       "        vertical-align: top;\n",
       "    }\n",
       "\n",
       "    .dataframe thead th {\n",
       "        text-align: right;\n",
       "    }\n",
       "</style>\n",
       "<table border=\"1\" class=\"dataframe\">\n",
       "  <thead>\n",
       "    <tr style=\"text-align: right;\">\n",
       "      <th></th>\n",
       "      <th>address</th>\n",
       "      <th>census_tract</th>\n",
       "      <th>clearance_date</th>\n",
       "      <th>clearance_status</th>\n",
       "      <th>council_district_code</th>\n",
       "      <th>description</th>\n",
       "      <th>district</th>\n",
       "      <th>latitude</th>\n",
       "      <th>location</th>\n",
       "      <th>location_description</th>\n",
       "      <th>longitude</th>\n",
       "      <th>primary_type</th>\n",
       "      <th>timestamp</th>\n",
       "      <th>unique_key</th>\n",
       "      <th>x_coordinate</th>\n",
       "      <th>y_coordinate</th>\n",
       "      <th>year</th>\n",
       "      <th>zipcode</th>\n",
       "    </tr>\n",
       "  </thead>\n",
       "  <tbody>\n",
       "    <tr>\n",
       "      <th>0</th>\n",
       "      <td>2620 RIO GRANDE ST Austin TX 78705</td>\n",
       "      <td>6.03</td>\n",
       "      <td>2015-12-14 00:00:00</td>\n",
       "      <td>Not cleared</td>\n",
       "      <td>9.0</td>\n",
       "      <td>THEFT</td>\n",
       "      <td>B</td>\n",
       "      <td>NaN</td>\n",
       "      <td>NaN</td>\n",
       "      <td>2620 RIO GRANDE ST</td>\n",
       "      <td>NaN</td>\n",
       "      <td>Theft</td>\n",
       "      <td>2015-12-13 00:00:00</td>\n",
       "      <td>2.015505e+10</td>\n",
       "      <td>3113531.0</td>\n",
       "      <td>10079579.0</td>\n",
       "      <td>2015.0</td>\n",
       "      <td>78705.0</td>\n",
       "    </tr>\n",
       "    <tr>\n",
       "      <th>1</th>\n",
       "      <td>9500 S IH 35 SVRD SB Austin TX 78748</td>\n",
       "      <td>24.21</td>\n",
       "      <td>2015-09-14 00:00:00</td>\n",
       "      <td>Cleared by Arrest</td>\n",
       "      <td>5.0</td>\n",
       "      <td>THEFT BY SHOPLIFTING</td>\n",
       "      <td>F</td>\n",
       "      <td>NaN</td>\n",
       "      <td>NaN</td>\n",
       "      <td>9500 S IH 35 SVRD SB</td>\n",
       "      <td>NaN</td>\n",
       "      <td>Theft</td>\n",
       "      <td>2015-09-03 00:00:00</td>\n",
       "      <td>2.015246e+10</td>\n",
       "      <td>3099459.0</td>\n",
       "      <td>10032098.0</td>\n",
       "      <td>2015.0</td>\n",
       "      <td>78748.0</td>\n",
       "    </tr>\n",
       "    <tr>\n",
       "      <th>2</th>\n",
       "      <td>1000 E 41ST ST</td>\n",
       "      <td>NaN</td>\n",
       "      <td>NaN</td>\n",
       "      <td>NaN</td>\n",
       "      <td>NaN</td>\n",
       "      <td>NaN</td>\n",
       "      <td>NaN</td>\n",
       "      <td>NaN</td>\n",
       "      <td>NaN</td>\n",
       "      <td>NaN</td>\n",
       "      <td>NaN</td>\n",
       "      <td>NaN</td>\n",
       "      <td>NaN</td>\n",
       "      <td>NaN</td>\n",
       "      <td>NaN</td>\n",
       "      <td>NaN</td>\n",
       "      <td>NaN</td>\n",
       "      <td>NaN</td>\n",
       "    </tr>\n",
       "    <tr>\n",
       "      <th>3</th>\n",
       "      <td>Austin TX 78751</td>\n",
       "      <td>NaN</td>\n",
       "      <td>NaN</td>\n",
       "      <td>NaN</td>\n",
       "      <td>NaN</td>\n",
       "      <td>NaN</td>\n",
       "      <td>NaN</td>\n",
       "      <td>NaN</td>\n",
       "      <td>NaN</td>\n",
       "      <td>NaN</td>\n",
       "      <td>NaN</td>\n",
       "      <td>NaN</td>\n",
       "      <td>NaN</td>\n",
       "      <td>NaN</td>\n",
       "      <td>NaN</td>\n",
       "      <td>NaN</td>\n",
       "      <td>NaN</td>\n",
       "      <td>NaN</td>\n",
       "    </tr>\n",
       "    <tr>\n",
       "      <th>4</th>\n",
       "      <td>(30.298356 -97.719647)</td>\n",
       "      <td>3.02</td>\n",
       "      <td>2014-07-29 00:00:00</td>\n",
       "      <td>Cleared by Arrest</td>\n",
       "      <td>9.0</td>\n",
       "      <td>THEFT BY SHOPLIFTING</td>\n",
       "      <td>B</td>\n",
       "      <td>30.298356</td>\n",
       "      <td>(30.298356-97.719647)</td>\n",
       "      <td>1000 E 41ST ST</td>\n",
       "      <td>-97.719647</td>\n",
       "      <td>Theft: Shoplifting</td>\n",
       "      <td>2014-04-04 00:00:00</td>\n",
       "      <td>2.014941e+09</td>\n",
       "      <td>3121345.0</td>\n",
       "      <td>10082705.0</td>\n",
       "      <td>2014.0</td>\n",
       "      <td>78751.0</td>\n",
       "    </tr>\n",
       "  </tbody>\n",
       "</table>\n",
       "</div>"
      ],
      "text/plain": [
       "                                address census_tract       clearance_date  \\\n",
       "0    2620 RIO GRANDE ST Austin TX 78705         6.03  2015-12-14 00:00:00   \n",
       "1  9500 S IH 35 SVRD SB Austin TX 78748        24.21  2015-09-14 00:00:00   \n",
       "2                        1000 E 41ST ST          NaN                  NaN   \n",
       "3                       Austin TX 78751          NaN                  NaN   \n",
       "4                (30.298356 -97.719647)         3.02  2014-07-29 00:00:00   \n",
       "\n",
       "    clearance_status  council_district_code           description district  \\\n",
       "0        Not cleared                    9.0                 THEFT        B   \n",
       "1  Cleared by Arrest                    5.0  THEFT BY SHOPLIFTING        F   \n",
       "2                NaN                    NaN                   NaN      NaN   \n",
       "3                NaN                    NaN                   NaN      NaN   \n",
       "4  Cleared by Arrest                    9.0  THEFT BY SHOPLIFTING        B   \n",
       "\n",
       "    latitude               location  location_description  longitude  \\\n",
       "0        NaN                    NaN    2620 RIO GRANDE ST        NaN   \n",
       "1        NaN                    NaN  9500 S IH 35 SVRD SB        NaN   \n",
       "2        NaN                    NaN                   NaN        NaN   \n",
       "3        NaN                    NaN                   NaN        NaN   \n",
       "4  30.298356  (30.298356-97.719647)        1000 E 41ST ST -97.719647   \n",
       "\n",
       "         primary_type            timestamp    unique_key  x_coordinate  \\\n",
       "0               Theft  2015-12-13 00:00:00  2.015505e+10     3113531.0   \n",
       "1               Theft  2015-09-03 00:00:00  2.015246e+10     3099459.0   \n",
       "2                 NaN                  NaN           NaN           NaN   \n",
       "3                 NaN                  NaN           NaN           NaN   \n",
       "4  Theft: Shoplifting  2014-04-04 00:00:00  2.014941e+09     3121345.0   \n",
       "\n",
       "   y_coordinate    year  zipcode  \n",
       "0    10079579.0  2015.0  78705.0  \n",
       "1    10032098.0  2015.0  78748.0  \n",
       "2           NaN     NaN      NaN  \n",
       "3           NaN     NaN      NaN  \n",
       "4    10082705.0  2014.0  78751.0  "
      ]
     },
     "execution_count": 6,
     "metadata": {},
     "output_type": "execute_result"
    }
   ],
   "source": [
    "df.head()"
   ]
  },
  {
   "cell_type": "markdown",
   "metadata": {},
   "source": [
    "Clean up table a bit, making sure the important columns actually contain data"
   ]
  },
  {
   "cell_type": "code",
   "execution_count": 7,
   "metadata": {},
   "outputs": [
    {
     "data": {
      "text/html": [
       "<div>\n",
       "<style scoped>\n",
       "    .dataframe tbody tr th:only-of-type {\n",
       "        vertical-align: middle;\n",
       "    }\n",
       "\n",
       "    .dataframe tbody tr th {\n",
       "        vertical-align: top;\n",
       "    }\n",
       "\n",
       "    .dataframe thead th {\n",
       "        text-align: right;\n",
       "    }\n",
       "</style>\n",
       "<table border=\"1\" class=\"dataframe\">\n",
       "  <thead>\n",
       "    <tr style=\"text-align: right;\">\n",
       "      <th></th>\n",
       "      <th>address</th>\n",
       "      <th>census_tract</th>\n",
       "      <th>clearance_date</th>\n",
       "      <th>clearance_status</th>\n",
       "      <th>council_district_code</th>\n",
       "      <th>description</th>\n",
       "      <th>district</th>\n",
       "      <th>latitude</th>\n",
       "      <th>location</th>\n",
       "      <th>location_description</th>\n",
       "      <th>longitude</th>\n",
       "      <th>primary_type</th>\n",
       "      <th>timestamp</th>\n",
       "      <th>unique_key</th>\n",
       "      <th>x_coordinate</th>\n",
       "      <th>y_coordinate</th>\n",
       "      <th>year</th>\n",
       "      <th>zipcode</th>\n",
       "    </tr>\n",
       "  </thead>\n",
       "  <tbody>\n",
       "    <tr>\n",
       "      <th>0</th>\n",
       "      <td>2620 RIO GRANDE ST Austin TX 78705</td>\n",
       "      <td>6.03</td>\n",
       "      <td>2015-12-14 00:00:00</td>\n",
       "      <td>Not cleared</td>\n",
       "      <td>9.0</td>\n",
       "      <td>THEFT</td>\n",
       "      <td>B</td>\n",
       "      <td>NaN</td>\n",
       "      <td>NaN</td>\n",
       "      <td>2620 RIO GRANDE ST</td>\n",
       "      <td>NaN</td>\n",
       "      <td>Theft</td>\n",
       "      <td>2015-12-13 00:00:00</td>\n",
       "      <td>2.015505e+10</td>\n",
       "      <td>3113531.0</td>\n",
       "      <td>10079579.0</td>\n",
       "      <td>2015.0</td>\n",
       "      <td>78705.0</td>\n",
       "    </tr>\n",
       "    <tr>\n",
       "      <th>1</th>\n",
       "      <td>9500 S IH 35 SVRD SB Austin TX 78748</td>\n",
       "      <td>24.21</td>\n",
       "      <td>2015-09-14 00:00:00</td>\n",
       "      <td>Cleared by Arrest</td>\n",
       "      <td>5.0</td>\n",
       "      <td>THEFT BY SHOPLIFTING</td>\n",
       "      <td>F</td>\n",
       "      <td>NaN</td>\n",
       "      <td>NaN</td>\n",
       "      <td>9500 S IH 35 SVRD SB</td>\n",
       "      <td>NaN</td>\n",
       "      <td>Theft</td>\n",
       "      <td>2015-09-03 00:00:00</td>\n",
       "      <td>2.015246e+10</td>\n",
       "      <td>3099459.0</td>\n",
       "      <td>10032098.0</td>\n",
       "      <td>2015.0</td>\n",
       "      <td>78748.0</td>\n",
       "    </tr>\n",
       "    <tr>\n",
       "      <th>4</th>\n",
       "      <td>(30.298356 -97.719647)</td>\n",
       "      <td>3.02</td>\n",
       "      <td>2014-07-29 00:00:00</td>\n",
       "      <td>Cleared by Arrest</td>\n",
       "      <td>9.0</td>\n",
       "      <td>THEFT BY SHOPLIFTING</td>\n",
       "      <td>B</td>\n",
       "      <td>30.298356</td>\n",
       "      <td>(30.298356-97.719647)</td>\n",
       "      <td>1000 E 41ST ST</td>\n",
       "      <td>-97.719647</td>\n",
       "      <td>Theft: Shoplifting</td>\n",
       "      <td>2014-04-04 00:00:00</td>\n",
       "      <td>2.014941e+09</td>\n",
       "      <td>3121345.0</td>\n",
       "      <td>10082705.0</td>\n",
       "      <td>2014.0</td>\n",
       "      <td>78751.0</td>\n",
       "    </tr>\n",
       "    <tr>\n",
       "      <th>5</th>\n",
       "      <td>710 E BEN WHITE BLVD EB Austin TX 78745</td>\n",
       "      <td>24.03</td>\n",
       "      <td>2015-01-07 00:00:00</td>\n",
       "      <td>Cleared by Arrest</td>\n",
       "      <td>3.0</td>\n",
       "      <td>THEFT BY SHOPLIFTING</td>\n",
       "      <td>D</td>\n",
       "      <td>NaN</td>\n",
       "      <td>NaN</td>\n",
       "      <td>710 E BEN WHITE BLVD EB</td>\n",
       "      <td>NaN</td>\n",
       "      <td>Theft</td>\n",
       "      <td>2015-01-02 00:00:00</td>\n",
       "      <td>2.015209e+08</td>\n",
       "      <td>3110518.0</td>\n",
       "      <td>10052730.0</td>\n",
       "      <td>2015.0</td>\n",
       "      <td>78745.0</td>\n",
       "    </tr>\n",
       "    <tr>\n",
       "      <th>6</th>\n",
       "      <td>4809 CABOB ST Austin TX 78744</td>\n",
       "      <td>24.13</td>\n",
       "      <td>2015-08-05 00:00:00</td>\n",
       "      <td>Not cleared</td>\n",
       "      <td>2.0</td>\n",
       "      <td>BURGLARY OF VEHICLE</td>\n",
       "      <td>F</td>\n",
       "      <td>NaN</td>\n",
       "      <td>NaN</td>\n",
       "      <td>4809 CABOB ST</td>\n",
       "      <td>NaN</td>\n",
       "      <td>Theft</td>\n",
       "      <td>2015-07-28 00:00:00</td>\n",
       "      <td>2.015209e+10</td>\n",
       "      <td>3115006.0</td>\n",
       "      <td>10043258.0</td>\n",
       "      <td>2015.0</td>\n",
       "      <td>78744.0</td>\n",
       "    </tr>\n",
       "  </tbody>\n",
       "</table>\n",
       "</div>"
      ],
      "text/plain": [
       "                                   address census_tract       clearance_date  \\\n",
       "0       2620 RIO GRANDE ST Austin TX 78705         6.03  2015-12-14 00:00:00   \n",
       "1     9500 S IH 35 SVRD SB Austin TX 78748        24.21  2015-09-14 00:00:00   \n",
       "4                   (30.298356 -97.719647)         3.02  2014-07-29 00:00:00   \n",
       "5  710 E BEN WHITE BLVD EB Austin TX 78745        24.03  2015-01-07 00:00:00   \n",
       "6            4809 CABOB ST Austin TX 78744        24.13  2015-08-05 00:00:00   \n",
       "\n",
       "    clearance_status  council_district_code           description district  \\\n",
       "0        Not cleared                    9.0                 THEFT        B   \n",
       "1  Cleared by Arrest                    5.0  THEFT BY SHOPLIFTING        F   \n",
       "4  Cleared by Arrest                    9.0  THEFT BY SHOPLIFTING        B   \n",
       "5  Cleared by Arrest                    3.0  THEFT BY SHOPLIFTING        D   \n",
       "6        Not cleared                    2.0   BURGLARY OF VEHICLE        F   \n",
       "\n",
       "    latitude               location     location_description  longitude  \\\n",
       "0        NaN                    NaN       2620 RIO GRANDE ST        NaN   \n",
       "1        NaN                    NaN     9500 S IH 35 SVRD SB        NaN   \n",
       "4  30.298356  (30.298356-97.719647)           1000 E 41ST ST -97.719647   \n",
       "5        NaN                    NaN  710 E BEN WHITE BLVD EB        NaN   \n",
       "6        NaN                    NaN            4809 CABOB ST        NaN   \n",
       "\n",
       "         primary_type            timestamp    unique_key  x_coordinate  \\\n",
       "0               Theft  2015-12-13 00:00:00  2.015505e+10     3113531.0   \n",
       "1               Theft  2015-09-03 00:00:00  2.015246e+10     3099459.0   \n",
       "4  Theft: Shoplifting  2014-04-04 00:00:00  2.014941e+09     3121345.0   \n",
       "5               Theft  2015-01-02 00:00:00  2.015209e+08     3110518.0   \n",
       "6               Theft  2015-07-28 00:00:00  2.015209e+10     3115006.0   \n",
       "\n",
       "   y_coordinate    year  zipcode  \n",
       "0    10079579.0  2015.0  78705.0  \n",
       "1    10032098.0  2015.0  78748.0  \n",
       "4    10082705.0  2014.0  78751.0  \n",
       "5    10052730.0  2015.0  78745.0  \n",
       "6    10043258.0  2015.0  78744.0  "
      ]
     },
     "execution_count": 7,
     "metadata": {},
     "output_type": "execute_result"
    }
   ],
   "source": [
    "df = df.dropna(subset=['year', 'timestamp'])\n",
    "df.head()"
   ]
  },
  {
   "cell_type": "markdown",
   "metadata": {},
   "source": [
    "Check which years are in dataset"
   ]
  },
  {
   "cell_type": "code",
   "execution_count": 8,
   "metadata": {},
   "outputs": [
    {
     "data": {
      "text/plain": [
       "2015.0    38573\n",
       "2014.0    34971\n",
       "Name: year, dtype: int64"
      ]
     },
     "execution_count": 8,
     "metadata": {},
     "output_type": "execute_result"
    }
   ],
   "source": [
    "df['year'].value_counts()"
   ]
  },
  {
   "cell_type": "markdown",
   "metadata": {},
   "source": [
    "Find all the types of crime and their number of occurences"
   ]
  },
  {
   "cell_type": "code",
   "execution_count": 9,
   "metadata": {},
   "outputs": [
    {
     "data": {
      "text/plain": [
       "Theft                                           28274\n",
       "Theft: All Other Larceny                        13539\n",
       "Theft: BOV                                      10545\n",
       "Burglary                                         4927\n",
       "Theft: Shoplifting                               4284\n",
       "Auto Theft                                       4206\n",
       "Agg Assault                                      1915\n",
       "Aggravated Assault                               1888\n",
       "Robbery                                          1809\n",
       "Rape                                             1042\n",
       "Theft: Pocket Picking                             448\n",
       "Theft: Auto Parts                                 231\n",
       "Theft: from Building                              221\n",
       "Theft: Coin Op Machine                            153\n",
       "Homicide: Murder & Nonnegligent Manslaughter       32\n",
       "Murder                                             23\n",
       "Theft: Purse Snatching                              7\n",
       "Name: primary_type, dtype: int64"
      ]
     },
     "execution_count": 9,
     "metadata": {},
     "output_type": "execute_result"
    }
   ],
   "source": [
    "df['primary_type'].value_counts()"
   ]
  },
  {
   "cell_type": "markdown",
   "metadata": {},
   "source": [
    "Check type for timestamp. If it's a string, need to convert it"
   ]
  },
  {
   "cell_type": "code",
   "execution_count": 10,
   "metadata": {},
   "outputs": [
    {
     "data": {
      "text/plain": [
       "str"
      ]
     },
     "execution_count": 10,
     "metadata": {},
     "output_type": "execute_result"
    }
   ],
   "source": [
    "type(df['timestamp'].iloc[1])"
   ]
  },
  {
   "cell_type": "markdown",
   "metadata": {},
   "source": [
    "TODO: find a way to streamline this process\n",
    "\n",
    "Creating list of Full Moon dates"
   ]
  },
  {
   "cell_type": "code",
   "execution_count": 10,
   "metadata": {
    "collapsed": true
   },
   "outputs": [],
   "source": [
    "#OR THIS\n",
    "dates = []\n",
    "fullMoon = datetime.datetime(2015, 1, 4, 0, 0, 0)\n",
    "dates.append(fullMoon)\n",
    "fullMoon = datetime.datetime(2015, 2, 3, 0, 0, 0)\n",
    "dates.append(fullMoon)\n",
    "fullMoon = datetime.datetime(2015, 3, 5, 0, 0, 0)\n",
    "dates.append(fullMoon)\n",
    "fullMoon = datetime.datetime(2015, 4, 4, 0, 0, 0)\n",
    "dates.append(fullMoon)\n",
    "fullMoon = datetime.datetime(2015, 5, 3, 0, 0, 0)\n",
    "dates.append(fullMoon)\n",
    "fullMoon = datetime.datetime(2015, 6, 2, 0, 0, 0)\n",
    "dates.append(fullMoon)\n",
    "fullMoon = datetime.datetime(2015, 7, 1, 0, 0, 0)\n",
    "dates.append(fullMoon)\n",
    "fullMoon = datetime.datetime(2015, 7, 31, 0, 0, 0)\n",
    "dates.append(fullMoon)\n",
    "fullMoon = datetime.datetime(2015, 8, 29, 0, 0, 0)\n",
    "dates.append(fullMoon)\n",
    "fullMoon = datetime.datetime(2015, 9, 27, 0, 0, 0)\n",
    "dates.append(fullMoon)\n",
    "fullMoon = datetime.datetime(2015, 10, 27, 0, 0, 0)\n",
    "dates.append(fullMoon)\n",
    "fullMoon = datetime.datetime(2015, 11, 25, 0, 0, 0)\n",
    "dates.append(fullMoon)\n",
    "fullMoon = datetime.datetime(2015, 12, 25, 0, 0, 0)\n",
    "dates.append(fullMoon)\n",
    "\n",
    "fullMoon = datetime.datetime(2014, 1, 15, 0, 0, 0)\n",
    "dates.append(fullMoon)\n",
    "fullMoon = datetime.datetime(2014, 2, 14, 0, 0, 0)\n",
    "dates.append(fullMoon)\n",
    "fullMoon = datetime.datetime(2014, 3, 16, 0, 0, 0)\n",
    "dates.append(fullMoon)\n",
    "fullMoon = datetime.datetime(2014, 4, 15, 0, 0, 0)\n",
    "dates.append(fullMoon)\n",
    "fullMoon = datetime.datetime(2014, 5, 14, 0, 0, 0)\n",
    "dates.append(fullMoon)\n",
    "fullMoon = datetime.datetime(2014, 6, 12, 0, 0, 0)\n",
    "dates.append(fullMoon)\n",
    "fullMoon = datetime.datetime(2014, 7, 12, 0, 0, 0)\n",
    "dates.append(fullMoon)\n",
    "fullMoon = datetime.datetime(2014, 8, 10, 0, 0, 0)\n",
    "dates.append(fullMoon)\n",
    "fullMoon = datetime.datetime(2014, 9, 8, 0, 0, 0)\n",
    "dates.append(fullMoon)\n",
    "fullMoon = datetime.datetime(2014, 10, 8, 0, 0, 0)\n",
    "dates.append(fullMoon)\n",
    "fullMoon = datetime.datetime(2014, 11, 6, 0, 0, 0)\n",
    "dates.append(fullMoon)\n",
    "fullMoon = datetime.datetime(2014, 12, 6, 0, 0, 0)\n",
    "dates.append(fullMoon)\n",
    "\n",
    "#Test value\n",
    "fullMoon = datetime.datetime(2015, 12, 13)\n",
    "dates.append(fullMoon)"
   ]
  },
  {
   "cell_type": "code",
   "execution_count": null,
   "metadata": {
    "collapsed": true
   },
   "outputs": [],
   "source": []
  },
  {
   "cell_type": "code",
   "execution_count": 69,
   "metadata": {},
   "outputs": [
    {
     "name": "stdout",
     "output_type": "stream",
     "text": [
      "['2015-01-04 00:00:00', '2015-02-03 00:00:00', '2015-03-05 00:00:00', '2015-04-04 00:00:00', '2015-05-03 00:00:00', '2015-06-02 00:00:00', '2015-07-01 00:00:00', '2015-07-31 00:00:00', '2015-08-29 00:00:00', '2015-09-27 00:00:00', '2015-10-27 00:00:00', '2015-11-25 00:00:00', '2015-12-25 00:00:00', '2014-01-15 00:00:00', '2014-02-14 00:00:00', '2014-03-16 00:00:00', '2014-04-15 00:00:00', '2014-05-14 00:00:00', '2014-06-12 00:00:00', '2014-07-12 00:00:00', '2014-08-10 00:00:00', '2014-09-08 00:00:00', '2014-10-08 00:00:00', '2014-11-06 00:00:00', '2014-12-06 00:00:00']\n"
     ]
    }
   ],
   "source": [
    "dates = []\n",
    "fullMoon = '2015-01-04 00:00:00'\n",
    "dates.append(fullMoon)\n",
    "fullMoon = '2015-02-03 00:00:00'\n",
    "dates.append(fullMoon)\n",
    "fullMoon = '2015-03-05 00:00:00'\n",
    "dates.append(fullMoon)\n",
    "fullMoon = '2015-04-04 00:00:00'\n",
    "dates.append(fullMoon)\n",
    "fullMoon = '2015-05-03 00:00:00'\n",
    "dates.append(fullMoon)\n",
    "fullMoon = '2015-06-02 00:00:00'\n",
    "dates.append(fullMoon)\n",
    "fullMoon = '2015-07-01 00:00:00'\n",
    "dates.append(fullMoon)\n",
    "fullMoon = '2015-07-31 00:00:00'\n",
    "dates.append(fullMoon)\n",
    "fullMoon = '2015-08-29 00:00:00'\n",
    "dates.append(fullMoon)\n",
    "fullMoon = '2015-09-27 00:00:00'\n",
    "dates.append(fullMoon)\n",
    "fullMoon = '2015-10-27 00:00:00'\n",
    "dates.append(fullMoon)\n",
    "fullMoon = '2015-11-25 00:00:00'\n",
    "dates.append(fullMoon)\n",
    "fullMoon = '2015-12-25 00:00:00'\n",
    "dates.append(fullMoon)\n",
    "\n",
    "fullMoon = '2014-01-15 00:00:00'\n",
    "dates.append(fullMoon)\n",
    "fullMoon = '2014-02-14 00:00:00'\n",
    "dates.append(fullMoon)\n",
    "fullMoon = '2014-03-16 00:00:00'\n",
    "dates.append(fullMoon)\n",
    "fullMoon = '2014-04-15 00:00:00'\n",
    "dates.append(fullMoon)\n",
    "fullMoon = '2014-05-14 00:00:00'\n",
    "dates.append(fullMoon)\n",
    "fullMoon = '2014-06-12 00:00:00'\n",
    "dates.append(fullMoon)\n",
    "fullMoon = '2014-07-12 00:00:00'\n",
    "dates.append(fullMoon)\n",
    "fullMoon = '2014-08-10 00:00:00'\n",
    "dates.append(fullMoon)\n",
    "fullMoon = '2014-09-08 00:00:00'\n",
    "dates.append(fullMoon)\n",
    "fullMoon = '2014-10-08 00:00:00'\n",
    "dates.append(fullMoon)\n",
    "fullMoon = '2014-11-06 00:00:00'\n",
    "dates.append(fullMoon)\n",
    "fullMoon = '2014-12-06 00:00:00'\n",
    "dates.append(fullMoon)\n",
    "\n",
    "#Test value - index 25\n",
    "#fullMoon = '2015-12-13 00:00:00'\n",
    "#dates.append(fullMoon)\n",
    "\n",
    "#print(df['timestamp'][0] == dates[25])\n",
    "print(dates)"
   ]
  },
  {
   "cell_type": "markdown",
   "metadata": {},
   "source": [
    "# Create a new DF which only contains rows that occured on a full moon"
   ]
  },
  {
   "cell_type": "code",
   "execution_count": 81,
   "metadata": {
    "collapsed": true
   },
   "outputs": [],
   "source": [
    "fullMoonDF = df[df['timestamp'].isin(dates)]"
   ]
  },
  {
   "cell_type": "code",
   "execution_count": 82,
   "metadata": {},
   "outputs": [
    {
     "data": {
      "text/html": [
       "<div>\n",
       "<style scoped>\n",
       "    .dataframe tbody tr th:only-of-type {\n",
       "        vertical-align: middle;\n",
       "    }\n",
       "\n",
       "    .dataframe tbody tr th {\n",
       "        vertical-align: top;\n",
       "    }\n",
       "\n",
       "    .dataframe thead th {\n",
       "        text-align: right;\n",
       "    }\n",
       "</style>\n",
       "<table border=\"1\" class=\"dataframe\">\n",
       "  <thead>\n",
       "    <tr style=\"text-align: right;\">\n",
       "      <th></th>\n",
       "      <th>address</th>\n",
       "      <th>census_tract</th>\n",
       "      <th>clearance_date</th>\n",
       "      <th>clearance_status</th>\n",
       "      <th>council_district_code</th>\n",
       "      <th>description</th>\n",
       "      <th>district</th>\n",
       "      <th>latitude</th>\n",
       "      <th>location</th>\n",
       "      <th>location_description</th>\n",
       "      <th>longitude</th>\n",
       "      <th>primary_type</th>\n",
       "      <th>timestamp</th>\n",
       "      <th>unique_key</th>\n",
       "      <th>x_coordinate</th>\n",
       "      <th>y_coordinate</th>\n",
       "      <th>year</th>\n",
       "      <th>zipcode</th>\n",
       "    </tr>\n",
       "  </thead>\n",
       "  <tbody>\n",
       "    <tr>\n",
       "      <th>123</th>\n",
       "      <td>(30.412351 -97.707908)</td>\n",
       "      <td>18.5</td>\n",
       "      <td>2014-04-16 00:00:00</td>\n",
       "      <td>Not cleared</td>\n",
       "      <td>7.0</td>\n",
       "      <td>THEFT</td>\n",
       "      <td>A</td>\n",
       "      <td>30.412351</td>\n",
       "      <td>(30.412351-97.707908)</td>\n",
       "      <td>12221 N MOPAC EXPY SVRD NB</td>\n",
       "      <td>-97.707908</td>\n",
       "      <td>Theft: All Other Larceny</td>\n",
       "      <td>2014-04-15 00:00:00</td>\n",
       "      <td>2.014502e+10</td>\n",
       "      <td>3124636.0</td>\n",
       "      <td>10124176.0</td>\n",
       "      <td>2014.0</td>\n",
       "      <td>78758.0</td>\n",
       "    </tr>\n",
       "    <tr>\n",
       "      <th>263</th>\n",
       "      <td>12900 N IH 35 SVRD SB Austin TX 78753</td>\n",
       "      <td>18.48</td>\n",
       "      <td>2015-04-21 00:00:00</td>\n",
       "      <td>Cleared by Arrest</td>\n",
       "      <td>7.0</td>\n",
       "      <td>THEFT</td>\n",
       "      <td>E</td>\n",
       "      <td>NaN</td>\n",
       "      <td>NaN</td>\n",
       "      <td>12900 N IH 35 SVRD SB</td>\n",
       "      <td>NaN</td>\n",
       "      <td>Theft</td>\n",
       "      <td>2015-04-04 00:00:00</td>\n",
       "      <td>2.015941e+09</td>\n",
       "      <td>3134231.0</td>\n",
       "      <td>10124161.0</td>\n",
       "      <td>2015.0</td>\n",
       "      <td>78753.0</td>\n",
       "    </tr>\n",
       "    <tr>\n",
       "      <th>268</th>\n",
       "      <td>9811 S IH 35 SVRD NB Austin TX 78744</td>\n",
       "      <td>24.25</td>\n",
       "      <td>2015-10-28 00:00:00</td>\n",
       "      <td>Not cleared</td>\n",
       "      <td>5.0</td>\n",
       "      <td>THEFT</td>\n",
       "      <td>F</td>\n",
       "      <td>NaN</td>\n",
       "      <td>NaN</td>\n",
       "      <td>9811 S IH 35 SVRD NB</td>\n",
       "      <td>NaN</td>\n",
       "      <td>Theft</td>\n",
       "      <td>2015-10-27 00:00:00</td>\n",
       "      <td>2.015300e+10</td>\n",
       "      <td>3100630.0</td>\n",
       "      <td>10030282.0</td>\n",
       "      <td>2015.0</td>\n",
       "      <td>78744.0</td>\n",
       "    </tr>\n",
       "    <tr>\n",
       "      <th>293</th>\n",
       "      <td>(30.338618 -97.692566)</td>\n",
       "      <td>18.13</td>\n",
       "      <td>NaN</td>\n",
       "      <td>NaN</td>\n",
       "      <td>4.0</td>\n",
       "      <td>THEFT</td>\n",
       "      <td>I</td>\n",
       "      <td>30.338618</td>\n",
       "      <td>(30.338618-97.692566)</td>\n",
       "      <td>1030 NORWOOD PARK BLVD</td>\n",
       "      <td>-97.692566</td>\n",
       "      <td>Theft: All Other Larceny</td>\n",
       "      <td>2014-07-12 00:00:00</td>\n",
       "      <td>2.014503e+10</td>\n",
       "      <td>3129997.0</td>\n",
       "      <td>10096983.0</td>\n",
       "      <td>2014.0</td>\n",
       "      <td>78753.0</td>\n",
       "    </tr>\n",
       "    <tr>\n",
       "      <th>327</th>\n",
       "      <td>3600 PRESIDENTIAL BLVD Austin TX 78719</td>\n",
       "      <td>9800</td>\n",
       "      <td>NaN</td>\n",
       "      <td>NaN</td>\n",
       "      <td>2.0</td>\n",
       "      <td>THEFT FROM BUILDING</td>\n",
       "      <td>AP</td>\n",
       "      <td>NaN</td>\n",
       "      <td>NaN</td>\n",
       "      <td>3600 PRESIDENTIAL BLVD</td>\n",
       "      <td>NaN</td>\n",
       "      <td>Theft</td>\n",
       "      <td>2015-02-03 00:00:00</td>\n",
       "      <td>2.015500e+10</td>\n",
       "      <td>3138768.0</td>\n",
       "      <td>10047351.0</td>\n",
       "      <td>2015.0</td>\n",
       "      <td>78719.0</td>\n",
       "    </tr>\n",
       "  </tbody>\n",
       "</table>\n",
       "</div>"
      ],
      "text/plain": [
       "                                    address census_tract       clearance_date  \\\n",
       "123                  (30.412351 -97.707908)         18.5  2014-04-16 00:00:00   \n",
       "263   12900 N IH 35 SVRD SB Austin TX 78753        18.48  2015-04-21 00:00:00   \n",
       "268    9811 S IH 35 SVRD NB Austin TX 78744        24.25  2015-10-28 00:00:00   \n",
       "293                  (30.338618 -97.692566)        18.13                  NaN   \n",
       "327  3600 PRESIDENTIAL BLVD Austin TX 78719         9800                  NaN   \n",
       "\n",
       "      clearance_status  council_district_code          description district  \\\n",
       "123        Not cleared                    7.0                THEFT        A   \n",
       "263  Cleared by Arrest                    7.0                THEFT        E   \n",
       "268        Not cleared                    5.0                THEFT        F   \n",
       "293                NaN                    4.0                THEFT        I   \n",
       "327                NaN                    2.0  THEFT FROM BUILDING       AP   \n",
       "\n",
       "      latitude               location        location_description  longitude  \\\n",
       "123  30.412351  (30.412351-97.707908)  12221 N MOPAC EXPY SVRD NB -97.707908   \n",
       "263        NaN                    NaN       12900 N IH 35 SVRD SB        NaN   \n",
       "268        NaN                    NaN        9811 S IH 35 SVRD NB        NaN   \n",
       "293  30.338618  (30.338618-97.692566)      1030 NORWOOD PARK BLVD -97.692566   \n",
       "327        NaN                    NaN      3600 PRESIDENTIAL BLVD        NaN   \n",
       "\n",
       "                 primary_type            timestamp    unique_key  \\\n",
       "123  Theft: All Other Larceny  2014-04-15 00:00:00  2.014502e+10   \n",
       "263                     Theft  2015-04-04 00:00:00  2.015941e+09   \n",
       "268                     Theft  2015-10-27 00:00:00  2.015300e+10   \n",
       "293  Theft: All Other Larceny  2014-07-12 00:00:00  2.014503e+10   \n",
       "327                     Theft  2015-02-03 00:00:00  2.015500e+10   \n",
       "\n",
       "     x_coordinate  y_coordinate    year  zipcode  \n",
       "123     3124636.0    10124176.0  2014.0  78758.0  \n",
       "263     3134231.0    10124161.0  2015.0  78753.0  \n",
       "268     3100630.0    10030282.0  2015.0  78744.0  \n",
       "293     3129997.0    10096983.0  2014.0  78753.0  \n",
       "327     3138768.0    10047351.0  2015.0  78719.0  "
      ]
     },
     "execution_count": 82,
     "metadata": {},
     "output_type": "execute_result"
    }
   ],
   "source": [
    "fullMoonDF.head()"
   ]
  },
  {
   "cell_type": "markdown",
   "metadata": {},
   "source": [
    "# Also creating a DF which only contains rows that didn't occur on full moon"
   ]
  },
  {
   "cell_type": "code",
   "execution_count": 80,
   "metadata": {
    "collapsed": true
   },
   "outputs": [],
   "source": [
    "notFullMoonDF = df[np.logical_not(df['timestamp'].isin(dates))]"
   ]
  },
  {
   "cell_type": "code",
   "execution_count": 83,
   "metadata": {},
   "outputs": [
    {
     "data": {
      "text/html": [
       "<div>\n",
       "<style scoped>\n",
       "    .dataframe tbody tr th:only-of-type {\n",
       "        vertical-align: middle;\n",
       "    }\n",
       "\n",
       "    .dataframe tbody tr th {\n",
       "        vertical-align: top;\n",
       "    }\n",
       "\n",
       "    .dataframe thead th {\n",
       "        text-align: right;\n",
       "    }\n",
       "</style>\n",
       "<table border=\"1\" class=\"dataframe\">\n",
       "  <thead>\n",
       "    <tr style=\"text-align: right;\">\n",
       "      <th></th>\n",
       "      <th>address</th>\n",
       "      <th>census_tract</th>\n",
       "      <th>clearance_date</th>\n",
       "      <th>clearance_status</th>\n",
       "      <th>council_district_code</th>\n",
       "      <th>description</th>\n",
       "      <th>district</th>\n",
       "      <th>latitude</th>\n",
       "      <th>location</th>\n",
       "      <th>location_description</th>\n",
       "      <th>longitude</th>\n",
       "      <th>primary_type</th>\n",
       "      <th>timestamp</th>\n",
       "      <th>unique_key</th>\n",
       "      <th>x_coordinate</th>\n",
       "      <th>y_coordinate</th>\n",
       "      <th>year</th>\n",
       "      <th>zipcode</th>\n",
       "    </tr>\n",
       "  </thead>\n",
       "  <tbody>\n",
       "    <tr>\n",
       "      <th>0</th>\n",
       "      <td>2620 RIO GRANDE ST Austin TX 78705</td>\n",
       "      <td>6.03</td>\n",
       "      <td>2015-12-14 00:00:00</td>\n",
       "      <td>Not cleared</td>\n",
       "      <td>9.0</td>\n",
       "      <td>THEFT</td>\n",
       "      <td>B</td>\n",
       "      <td>NaN</td>\n",
       "      <td>NaN</td>\n",
       "      <td>2620 RIO GRANDE ST</td>\n",
       "      <td>NaN</td>\n",
       "      <td>Theft</td>\n",
       "      <td>2015-12-13 00:00:00</td>\n",
       "      <td>2.015505e+10</td>\n",
       "      <td>3113531.0</td>\n",
       "      <td>10079579.0</td>\n",
       "      <td>2015.0</td>\n",
       "      <td>78705.0</td>\n",
       "    </tr>\n",
       "    <tr>\n",
       "      <th>1</th>\n",
       "      <td>9500 S IH 35 SVRD SB Austin TX 78748</td>\n",
       "      <td>24.21</td>\n",
       "      <td>2015-09-14 00:00:00</td>\n",
       "      <td>Cleared by Arrest</td>\n",
       "      <td>5.0</td>\n",
       "      <td>THEFT BY SHOPLIFTING</td>\n",
       "      <td>F</td>\n",
       "      <td>NaN</td>\n",
       "      <td>NaN</td>\n",
       "      <td>9500 S IH 35 SVRD SB</td>\n",
       "      <td>NaN</td>\n",
       "      <td>Theft</td>\n",
       "      <td>2015-09-03 00:00:00</td>\n",
       "      <td>2.015246e+10</td>\n",
       "      <td>3099459.0</td>\n",
       "      <td>10032098.0</td>\n",
       "      <td>2015.0</td>\n",
       "      <td>78748.0</td>\n",
       "    </tr>\n",
       "    <tr>\n",
       "      <th>4</th>\n",
       "      <td>(30.298356 -97.719647)</td>\n",
       "      <td>3.02</td>\n",
       "      <td>2014-07-29 00:00:00</td>\n",
       "      <td>Cleared by Arrest</td>\n",
       "      <td>9.0</td>\n",
       "      <td>THEFT BY SHOPLIFTING</td>\n",
       "      <td>B</td>\n",
       "      <td>30.298356</td>\n",
       "      <td>(30.298356-97.719647)</td>\n",
       "      <td>1000 E 41ST ST</td>\n",
       "      <td>-97.719647</td>\n",
       "      <td>Theft: Shoplifting</td>\n",
       "      <td>2014-04-04 00:00:00</td>\n",
       "      <td>2.014941e+09</td>\n",
       "      <td>3121345.0</td>\n",
       "      <td>10082705.0</td>\n",
       "      <td>2014.0</td>\n",
       "      <td>78751.0</td>\n",
       "    </tr>\n",
       "    <tr>\n",
       "      <th>5</th>\n",
       "      <td>710 E BEN WHITE BLVD EB Austin TX 78745</td>\n",
       "      <td>24.03</td>\n",
       "      <td>2015-01-07 00:00:00</td>\n",
       "      <td>Cleared by Arrest</td>\n",
       "      <td>3.0</td>\n",
       "      <td>THEFT BY SHOPLIFTING</td>\n",
       "      <td>D</td>\n",
       "      <td>NaN</td>\n",
       "      <td>NaN</td>\n",
       "      <td>710 E BEN WHITE BLVD EB</td>\n",
       "      <td>NaN</td>\n",
       "      <td>Theft</td>\n",
       "      <td>2015-01-02 00:00:00</td>\n",
       "      <td>2.015209e+08</td>\n",
       "      <td>3110518.0</td>\n",
       "      <td>10052730.0</td>\n",
       "      <td>2015.0</td>\n",
       "      <td>78745.0</td>\n",
       "    </tr>\n",
       "    <tr>\n",
       "      <th>6</th>\n",
       "      <td>4809 CABOB ST Austin TX 78744</td>\n",
       "      <td>24.13</td>\n",
       "      <td>2015-08-05 00:00:00</td>\n",
       "      <td>Not cleared</td>\n",
       "      <td>2.0</td>\n",
       "      <td>BURGLARY OF VEHICLE</td>\n",
       "      <td>F</td>\n",
       "      <td>NaN</td>\n",
       "      <td>NaN</td>\n",
       "      <td>4809 CABOB ST</td>\n",
       "      <td>NaN</td>\n",
       "      <td>Theft</td>\n",
       "      <td>2015-07-28 00:00:00</td>\n",
       "      <td>2.015209e+10</td>\n",
       "      <td>3115006.0</td>\n",
       "      <td>10043258.0</td>\n",
       "      <td>2015.0</td>\n",
       "      <td>78744.0</td>\n",
       "    </tr>\n",
       "  </tbody>\n",
       "</table>\n",
       "</div>"
      ],
      "text/plain": [
       "                                   address census_tract       clearance_date  \\\n",
       "0       2620 RIO GRANDE ST Austin TX 78705         6.03  2015-12-14 00:00:00   \n",
       "1     9500 S IH 35 SVRD SB Austin TX 78748        24.21  2015-09-14 00:00:00   \n",
       "4                   (30.298356 -97.719647)         3.02  2014-07-29 00:00:00   \n",
       "5  710 E BEN WHITE BLVD EB Austin TX 78745        24.03  2015-01-07 00:00:00   \n",
       "6            4809 CABOB ST Austin TX 78744        24.13  2015-08-05 00:00:00   \n",
       "\n",
       "    clearance_status  council_district_code           description district  \\\n",
       "0        Not cleared                    9.0                 THEFT        B   \n",
       "1  Cleared by Arrest                    5.0  THEFT BY SHOPLIFTING        F   \n",
       "4  Cleared by Arrest                    9.0  THEFT BY SHOPLIFTING        B   \n",
       "5  Cleared by Arrest                    3.0  THEFT BY SHOPLIFTING        D   \n",
       "6        Not cleared                    2.0   BURGLARY OF VEHICLE        F   \n",
       "\n",
       "    latitude               location     location_description  longitude  \\\n",
       "0        NaN                    NaN       2620 RIO GRANDE ST        NaN   \n",
       "1        NaN                    NaN     9500 S IH 35 SVRD SB        NaN   \n",
       "4  30.298356  (30.298356-97.719647)           1000 E 41ST ST -97.719647   \n",
       "5        NaN                    NaN  710 E BEN WHITE BLVD EB        NaN   \n",
       "6        NaN                    NaN            4809 CABOB ST        NaN   \n",
       "\n",
       "         primary_type            timestamp    unique_key  x_coordinate  \\\n",
       "0               Theft  2015-12-13 00:00:00  2.015505e+10     3113531.0   \n",
       "1               Theft  2015-09-03 00:00:00  2.015246e+10     3099459.0   \n",
       "4  Theft: Shoplifting  2014-04-04 00:00:00  2.014941e+09     3121345.0   \n",
       "5               Theft  2015-01-02 00:00:00  2.015209e+08     3110518.0   \n",
       "6               Theft  2015-07-28 00:00:00  2.015209e+10     3115006.0   \n",
       "\n",
       "   y_coordinate    year  zipcode  \n",
       "0    10079579.0  2015.0  78705.0  \n",
       "1    10032098.0  2015.0  78748.0  \n",
       "4    10082705.0  2014.0  78751.0  \n",
       "5    10052730.0  2015.0  78745.0  \n",
       "6    10043258.0  2015.0  78744.0  "
      ]
     },
     "execution_count": 83,
     "metadata": {},
     "output_type": "execute_result"
    }
   ],
   "source": [
    "notFullMoonDF.head()"
   ]
  },
  {
   "cell_type": "markdown",
   "metadata": {},
   "source": [
    "Countplot of how much each crime occured on a full moon"
   ]
  },
  {
   "cell_type": "code",
   "execution_count": 136,
   "metadata": {},
   "outputs": [
    {
     "data": {
      "text/plain": [
       "Text(0.5,1,'Occurences of Each Crime On Full Moon')"
      ]
     },
     "execution_count": 136,
     "metadata": {},
     "output_type": "execute_result"
    },
    {
     "data": {
      "image/png": "[encoded data removed]",
      "text/plain": [
       "<matplotlib.figure.Figure at 0x1a2463a668>"
      ]
     },
     "metadata": {},
     "output_type": "display_data"
    }
   ],
   "source": [
    "sns.set()\n",
    "plt.figure(figsize=(15,8))\n",
    "b = sns.countplot(x=fullMoonDF['primary_type'], data= df, palette='coolwarm')\n",
    "b.set_xticklabels(b.get_xticklabels(), rotation=35, ha=\"right\")\n",
    "plt.tight_layout()\n",
    "b.tick_params(labelsize=15)\n",
    "b.set_xlabel(\"Crime Type\",fontsize=30)\n",
    "b.set_ylabel(\"Count\",fontsize=20)\n",
    "b.set_title(\"Occurences of Each Crime On Full Moon\", fontsize=30)"
   ]
  },
  {
   "cell_type": "markdown",
   "metadata": {},
   "source": [
    "Countplot of occurences of each crime not on full moon"
   ]
  },
  {
   "cell_type": "code",
   "execution_count": 137,
   "metadata": {},
   "outputs": [
    {
     "data": {
      "text/plain": [
       "Text(0.5,1,'Occurences of Each Crime Not On Full Moon')"
      ]
     },
     "execution_count": 137,
     "metadata": {},
     "output_type": "execute_result"
    },
    {
     "data": {
      "image/png": "[encoded data removed]",
      "text/plain": [
       "<matplotlib.figure.Figure at 0x1a25175550>"
      ]
     },
     "metadata": {},
     "output_type": "display_data"
    }
   ],
   "source": [
    "sns.set()\n",
    "plt.figure(figsize=(15,8))\n",
    "b = sns.countplot(x=notFullMoonDF['primary_type'], data= df, palette='coolwarm')\n",
    "b.set_xticklabels(b.get_xticklabels(), rotation=35, ha=\"right\")\n",
    "plt.tight_layout()\n",
    "b.tick_params(labelsize=15)\n",
    "b.set_xlabel(\"Crime Type\",fontsize=30)\n",
    "b.set_ylabel(\"Count\",fontsize=20)\n",
    "b.set_title(\"Occurences of Each Crime Not On Full Moon\", fontsize=30)"
   ]
  },
  {
   "cell_type": "markdown",
   "metadata": {},
   "source": [
    "# Merging all theft types together and combining \"Agg Assult\" with \"Aggravated Assault\""
   ]
  },
  {
   "cell_type": "code",
   "execution_count": 163,
   "metadata": {},
   "outputs": [
    {
     "data": {
      "text/plain": [
       "Theft                 55832\n",
       "Burglary               4756\n",
       "Auto Theft             4057\n",
       "Aggravated Assault     3674\n",
       "Robbery                1748\n",
       "Rape                   1016\n",
       "Homicide                 31\n",
       "Murder                   23\n",
       "Name: Crime, dtype: int64"
      ]
     },
     "execution_count": 163,
     "metadata": {},
     "output_type": "execute_result"
    }
   ],
   "source": [
    "notFullMoonDF['Crime'] = notFullMoonDF['primary_type'].apply(lambda crime: crime.split(':')[0])\n",
    "notFullMoonDF.replace('Agg Assault', 'Aggravated Assault', inplace=True)\n",
    "notFullMoonDF['Crime'].value_counts()"
   ]
  },
  {
   "cell_type": "code",
   "execution_count": 164,
   "metadata": {},
   "outputs": [
    {
     "data": {
      "text/plain": [
       "Theft                 1870\n",
       "Burglary               171\n",
       "Auto Theft             149\n",
       "Aggravated Assault     129\n",
       "Robbery                 61\n",
       "Rape                    26\n",
       "Homicide                 1\n",
       "Name: Crime, dtype: int64"
      ]
     },
     "execution_count": 164,
     "metadata": {},
     "output_type": "execute_result"
    }
   ],
   "source": [
    "fullMoonDF['Crime'] = fullMoonDF['primary_type'].apply(lambda crime: crime.split(':')[0])\n",
    "fullMoonDF.replace('Agg Assault', 'Aggravated Assault', inplace=True)\n",
    "fullMoonDF['Crime'].value_counts()"
   ]
  },
  {
   "cell_type": "code",
   "execution_count": 165,
   "metadata": {},
   "outputs": [
    {
     "data": {
      "text/html": [
       "<div>\n",
       "<style scoped>\n",
       "    .dataframe tbody tr th:only-of-type {\n",
       "        vertical-align: middle;\n",
       "    }\n",
       "\n",
       "    .dataframe tbody tr th {\n",
       "        vertical-align: top;\n",
       "    }\n",
       "\n",
       "    .dataframe thead th {\n",
       "        text-align: right;\n",
       "    }\n",
       "</style>\n",
       "<table border=\"1\" class=\"dataframe\">\n",
       "  <thead>\n",
       "    <tr style=\"text-align: right;\">\n",
       "      <th></th>\n",
       "      <th>address</th>\n",
       "      <th>census_tract</th>\n",
       "      <th>clearance_date</th>\n",
       "      <th>clearance_status</th>\n",
       "      <th>council_district_code</th>\n",
       "      <th>description</th>\n",
       "      <th>district</th>\n",
       "      <th>latitude</th>\n",
       "      <th>location</th>\n",
       "      <th>location_description</th>\n",
       "      <th>longitude</th>\n",
       "      <th>primary_type</th>\n",
       "      <th>timestamp</th>\n",
       "      <th>unique_key</th>\n",
       "      <th>x_coordinate</th>\n",
       "      <th>y_coordinate</th>\n",
       "      <th>year</th>\n",
       "      <th>zipcode</th>\n",
       "      <th>Crime</th>\n",
       "    </tr>\n",
       "  </thead>\n",
       "  <tbody>\n",
       "    <tr>\n",
       "      <th>123</th>\n",
       "      <td>(30.412351 -97.707908)</td>\n",
       "      <td>18.5</td>\n",
       "      <td>2014-04-16 00:00:00</td>\n",
       "      <td>Not cleared</td>\n",
       "      <td>7.0</td>\n",
       "      <td>THEFT</td>\n",
       "      <td>A</td>\n",
       "      <td>30.412351</td>\n",
       "      <td>(30.412351-97.707908)</td>\n",
       "      <td>12221 N MOPAC EXPY SVRD NB</td>\n",
       "      <td>-97.707908</td>\n",
       "      <td>Theft: All Other Larceny</td>\n",
       "      <td>2014-04-15 00:00:00</td>\n",
       "      <td>2.014502e+10</td>\n",
       "      <td>3124636.0</td>\n",
       "      <td>10124176.0</td>\n",
       "      <td>2014.0</td>\n",
       "      <td>78758.0</td>\n",
       "      <td>Theft</td>\n",
       "    </tr>\n",
       "    <tr>\n",
       "      <th>263</th>\n",
       "      <td>12900 N IH 35 SVRD SB Austin TX 78753</td>\n",
       "      <td>18.48</td>\n",
       "      <td>2015-04-21 00:00:00</td>\n",
       "      <td>Cleared by Arrest</td>\n",
       "      <td>7.0</td>\n",
       "      <td>THEFT</td>\n",
       "      <td>E</td>\n",
       "      <td>NaN</td>\n",
       "      <td>NaN</td>\n",
       "      <td>12900 N IH 35 SVRD SB</td>\n",
       "      <td>NaN</td>\n",
       "      <td>Theft</td>\n",
       "      <td>2015-04-04 00:00:00</td>\n",
       "      <td>2.015941e+09</td>\n",
       "      <td>3134231.0</td>\n",
       "      <td>10124161.0</td>\n",
       "      <td>2015.0</td>\n",
       "      <td>78753.0</td>\n",
       "      <td>Theft</td>\n",
       "    </tr>\n",
       "    <tr>\n",
       "      <th>268</th>\n",
       "      <td>9811 S IH 35 SVRD NB Austin TX 78744</td>\n",
       "      <td>24.25</td>\n",
       "      <td>2015-10-28 00:00:00</td>\n",
       "      <td>Not cleared</td>\n",
       "      <td>5.0</td>\n",
       "      <td>THEFT</td>\n",
       "      <td>F</td>\n",
       "      <td>NaN</td>\n",
       "      <td>NaN</td>\n",
       "      <td>9811 S IH 35 SVRD NB</td>\n",
       "      <td>NaN</td>\n",
       "      <td>Theft</td>\n",
       "      <td>2015-10-27 00:00:00</td>\n",
       "      <td>2.015300e+10</td>\n",
       "      <td>3100630.0</td>\n",
       "      <td>10030282.0</td>\n",
       "      <td>2015.0</td>\n",
       "      <td>78744.0</td>\n",
       "      <td>Theft</td>\n",
       "    </tr>\n",
       "    <tr>\n",
       "      <th>293</th>\n",
       "      <td>(30.338618 -97.692566)</td>\n",
       "      <td>18.13</td>\n",
       "      <td>NaN</td>\n",
       "      <td>NaN</td>\n",
       "      <td>4.0</td>\n",
       "      <td>THEFT</td>\n",
       "      <td>I</td>\n",
       "      <td>30.338618</td>\n",
       "      <td>(30.338618-97.692566)</td>\n",
       "      <td>1030 NORWOOD PARK BLVD</td>\n",
       "      <td>-97.692566</td>\n",
       "      <td>Theft: All Other Larceny</td>\n",
       "      <td>2014-07-12 00:00:00</td>\n",
       "      <td>2.014503e+10</td>\n",
       "      <td>3129997.0</td>\n",
       "      <td>10096983.0</td>\n",
       "      <td>2014.0</td>\n",
       "      <td>78753.0</td>\n",
       "      <td>Theft</td>\n",
       "    </tr>\n",
       "    <tr>\n",
       "      <th>327</th>\n",
       "      <td>3600 PRESIDENTIAL BLVD Austin TX 78719</td>\n",
       "      <td>9800</td>\n",
       "      <td>NaN</td>\n",
       "      <td>NaN</td>\n",
       "      <td>2.0</td>\n",
       "      <td>THEFT FROM BUILDING</td>\n",
       "      <td>AP</td>\n",
       "      <td>NaN</td>\n",
       "      <td>NaN</td>\n",
       "      <td>3600 PRESIDENTIAL BLVD</td>\n",
       "      <td>NaN</td>\n",
       "      <td>Theft</td>\n",
       "      <td>2015-02-03 00:00:00</td>\n",
       "      <td>2.015500e+10</td>\n",
       "      <td>3138768.0</td>\n",
       "      <td>10047351.0</td>\n",
       "      <td>2015.0</td>\n",
       "      <td>78719.0</td>\n",
       "      <td>Theft</td>\n",
       "    </tr>\n",
       "  </tbody>\n",
       "</table>\n",
       "</div>"
      ],
      "text/plain": [
       "                                    address census_tract       clearance_date  \\\n",
       "123                  (30.412351 -97.707908)         18.5  2014-04-16 00:00:00   \n",
       "263   12900 N IH 35 SVRD SB Austin TX 78753        18.48  2015-04-21 00:00:00   \n",
       "268    9811 S IH 35 SVRD NB Austin TX 78744        24.25  2015-10-28 00:00:00   \n",
       "293                  (30.338618 -97.692566)        18.13                  NaN   \n",
       "327  3600 PRESIDENTIAL BLVD Austin TX 78719         9800                  NaN   \n",
       "\n",
       "      clearance_status  council_district_code          description district  \\\n",
       "123        Not cleared                    7.0                THEFT        A   \n",
       "263  Cleared by Arrest                    7.0                THEFT        E   \n",
       "268        Not cleared                    5.0                THEFT        F   \n",
       "293                NaN                    4.0                THEFT        I   \n",
       "327                NaN                    2.0  THEFT FROM BUILDING       AP   \n",
       "\n",
       "      latitude               location        location_description  longitude  \\\n",
       "123  30.412351  (30.412351-97.707908)  12221 N MOPAC EXPY SVRD NB -97.707908   \n",
       "263        NaN                    NaN       12900 N IH 35 SVRD SB        NaN   \n",
       "268        NaN                    NaN        9811 S IH 35 SVRD NB        NaN   \n",
       "293  30.338618  (30.338618-97.692566)      1030 NORWOOD PARK BLVD -97.692566   \n",
       "327        NaN                    NaN      3600 PRESIDENTIAL BLVD        NaN   \n",
       "\n",
       "                 primary_type            timestamp    unique_key  \\\n",
       "123  Theft: All Other Larceny  2014-04-15 00:00:00  2.014502e+10   \n",
       "263                     Theft  2015-04-04 00:00:00  2.015941e+09   \n",
       "268                     Theft  2015-10-27 00:00:00  2.015300e+10   \n",
       "293  Theft: All Other Larceny  2014-07-12 00:00:00  2.014503e+10   \n",
       "327                     Theft  2015-02-03 00:00:00  2.015500e+10   \n",
       "\n",
       "     x_coordinate  y_coordinate    year  zipcode  Crime  \n",
       "123     3124636.0    10124176.0  2014.0  78758.0  Theft  \n",
       "263     3134231.0    10124161.0  2015.0  78753.0  Theft  \n",
       "268     3100630.0    10030282.0  2015.0  78744.0  Theft  \n",
       "293     3129997.0    10096983.0  2014.0  78753.0  Theft  \n",
       "327     3138768.0    10047351.0  2015.0  78719.0  Theft  "
      ]
     },
     "execution_count": 165,
     "metadata": {},
     "output_type": "execute_result"
    }
   ],
   "source": [
    "fullMoonDF.head()"
   ]
  },
  {
   "cell_type": "markdown",
   "metadata": {},
   "source": [
    "Non-Violent Crime on Full Moon"
   ]
  },
  {
   "cell_type": "code",
   "execution_count": 184,
   "metadata": {},
   "outputs": [
    {
     "data": {
      "text/plain": [
       "2190"
      ]
     },
     "execution_count": 184,
     "metadata": {},
     "output_type": "execute_result"
    }
   ],
   "source": [
    "nvFM = fullMoonDF[fullMoonDF['Crime']=='Theft']['Crime'].count() + fullMoonDF[fullMoonDF['Crime']=='Burglary']['Crime'].count() + fullMoonDF[fullMoonDF['Crime']=='Auto Theft']['Crime'].count()\n",
    "nvFM"
   ]
  },
  {
   "cell_type": "markdown",
   "metadata": {},
   "source": [
    "Violent Crime on Full Moon"
   ]
  },
  {
   "cell_type": "code",
   "execution_count": 183,
   "metadata": {},
   "outputs": [
    {
     "data": {
      "text/plain": [
       "217"
      ]
     },
     "execution_count": 183,
     "metadata": {},
     "output_type": "execute_result"
    }
   ],
   "source": [
    "vFM = fullMoonDF[fullMoonDF['Crime']=='Rape']['Crime'].count() + fullMoonDF[fullMoonDF['Crime']=='Homicide']['Crime'].count() + fullMoonDF[fullMoonDF['Crime']=='Robbery']['Crime'].count() + fullMoonDF[fullMoonDF['Crime']=='Aggravated Assault']['Crime'].count()\n",
    "vFM"
   ]
  },
  {
   "cell_type": "markdown",
   "metadata": {},
   "source": [
    "Non-Violent Crime on Non Full Moon"
   ]
  },
  {
   "cell_type": "code",
   "execution_count": 185,
   "metadata": {},
   "outputs": [
    {
     "data": {
      "text/plain": [
       "64645"
      ]
     },
     "execution_count": 185,
     "metadata": {},
     "output_type": "execute_result"
    }
   ],
   "source": [
    "nvNFM = notFullMoonDF[notFullMoonDF['Crime']=='Theft']['Crime'].count() + notFullMoonDF[notFullMoonDF['Crime']=='Burglary']['Crime'].count() + notFullMoonDF[notFullMoonDF['Crime']=='Auto Theft']['Crime'].count()\n",
    "nvNFM"
   ]
  },
  {
   "cell_type": "markdown",
   "metadata": {},
   "source": [
    "Violent Crime on Non Full Moon"
   ]
  },
  {
   "cell_type": "code",
   "execution_count": 188,
   "metadata": {},
   "outputs": [
    {
     "data": {
      "text/plain": [
       "6492"
      ]
     },
     "execution_count": 188,
     "metadata": {},
     "output_type": "execute_result"
    }
   ],
   "source": [
    "vNFM = notFullMoonDF[notFullMoonDF['Crime']=='Rape']['Crime'].count() + notFullMoonDF[notFullMoonDF['Crime']=='Homicide']['Crime'].count() + notFullMoonDF[notFullMoonDF['Crime']=='Robbery']['Crime'].count() + notFullMoonDF[notFullMoonDF['Crime']=='Aggravated Assault']['Crime'].count() + notFullMoonDF[notFullMoonDF['Crime']=='Murder']['Crime'].count()\n",
    "vNFM"
   ]
  },
  {
   "cell_type": "markdown",
   "metadata": {},
   "source": [
    "**Percent of crime that are violent on a Full Moon**"
   ]
  },
  {
   "cell_type": "code",
   "execution_count": 198,
   "metadata": {},
   "outputs": [
    {
     "data": {
      "text/plain": [
       "9.91"
      ]
     },
     "execution_count": 198,
     "metadata": {},
     "output_type": "execute_result"
    }
   ],
   "source": [
    "fullMoonPercentViolent = (vFM / nvFM) * 100\n",
    "fullMoonPercentViolent = round(fullMoonPercentViolent, 2)\n",
    "fullMoonPercentViolent"
   ]
  },
  {
   "cell_type": "markdown",
   "metadata": {},
   "source": [
    "** Percent of crimes that are violent on a non-Full Moon**"
   ]
  },
  {
   "cell_type": "code",
   "execution_count": 199,
   "metadata": {},
   "outputs": [
    {
     "data": {
      "text/plain": [
       "10.04"
      ]
     },
     "execution_count": 199,
     "metadata": {},
     "output_type": "execute_result"
    }
   ],
   "source": [
    "notFullMoonPercentViolent = (vNFM / nvNFM) * 100\n",
    "notFullMoonPercentViolent = round(notFullMoonPercentViolent, 2)\n",
    "notFullMoonPercentViolent"
   ]
  },
  {
   "cell_type": "code",
   "execution_count": 203,
   "metadata": {},
   "outputs": [
    {
     "data": {
      "text/html": [
       "<div>\n",
       "<style scoped>\n",
       "    .dataframe tbody tr th:only-of-type {\n",
       "        vertical-align: middle;\n",
       "    }\n",
       "\n",
       "    .dataframe tbody tr th {\n",
       "        vertical-align: top;\n",
       "    }\n",
       "\n",
       "    .dataframe thead th {\n",
       "        text-align: right;\n",
       "    }\n",
       "</style>\n",
       "<table border=\"1\" class=\"dataframe\">\n",
       "  <thead>\n",
       "    <tr style=\"text-align: right;\">\n",
       "      <th></th>\n",
       "      <th>address</th>\n",
       "      <th>census_tract</th>\n",
       "      <th>clearance_date</th>\n",
       "      <th>clearance_status</th>\n",
       "      <th>council_district_code</th>\n",
       "      <th>description</th>\n",
       "      <th>district</th>\n",
       "      <th>latitude</th>\n",
       "      <th>location</th>\n",
       "      <th>location_description</th>\n",
       "      <th>longitude</th>\n",
       "      <th>primary_type</th>\n",
       "      <th>timestamp</th>\n",
       "      <th>unique_key</th>\n",
       "      <th>x_coordinate</th>\n",
       "      <th>y_coordinate</th>\n",
       "      <th>year</th>\n",
       "      <th>zipcode</th>\n",
       "      <th>Crime</th>\n",
       "    </tr>\n",
       "  </thead>\n",
       "  <tbody>\n",
       "    <tr>\n",
       "      <th>123</th>\n",
       "      <td>(30.412351 -97.707908)</td>\n",
       "      <td>18.5</td>\n",
       "      <td>2014-04-16 00:00:00</td>\n",
       "      <td>Not cleared</td>\n",
       "      <td>7.0</td>\n",
       "      <td>THEFT</td>\n",
       "      <td>A</td>\n",
       "      <td>30.412351</td>\n",
       "      <td>(30.412351-97.707908)</td>\n",
       "      <td>12221 N MOPAC EXPY SVRD NB</td>\n",
       "      <td>-97.707908</td>\n",
       "      <td>Theft: All Other Larceny</td>\n",
       "      <td>2014-04-15 00:00:00</td>\n",
       "      <td>2.014502e+10</td>\n",
       "      <td>3124636.0</td>\n",
       "      <td>10124176.0</td>\n",
       "      <td>2014.0</td>\n",
       "      <td>78758.0</td>\n",
       "      <td>Theft</td>\n",
       "    </tr>\n",
       "    <tr>\n",
       "      <th>263</th>\n",
       "      <td>12900 N IH 35 SVRD SB Austin TX 78753</td>\n",
       "      <td>18.48</td>\n",
       "      <td>2015-04-21 00:00:00</td>\n",
       "      <td>Cleared by Arrest</td>\n",
       "      <td>7.0</td>\n",
       "      <td>THEFT</td>\n",
       "      <td>E</td>\n",
       "      <td>NaN</td>\n",
       "      <td>NaN</td>\n",
       "      <td>12900 N IH 35 SVRD SB</td>\n",
       "      <td>NaN</td>\n",
       "      <td>Theft</td>\n",
       "      <td>2015-04-04 00:00:00</td>\n",
       "      <td>2.015941e+09</td>\n",
       "      <td>3134231.0</td>\n",
       "      <td>10124161.0</td>\n",
       "      <td>2015.0</td>\n",
       "      <td>78753.0</td>\n",
       "      <td>Theft</td>\n",
       "    </tr>\n",
       "    <tr>\n",
       "      <th>268</th>\n",
       "      <td>9811 S IH 35 SVRD NB Austin TX 78744</td>\n",
       "      <td>24.25</td>\n",
       "      <td>2015-10-28 00:00:00</td>\n",
       "      <td>Not cleared</td>\n",
       "      <td>5.0</td>\n",
       "      <td>THEFT</td>\n",
       "      <td>F</td>\n",
       "      <td>NaN</td>\n",
       "      <td>NaN</td>\n",
       "      <td>9811 S IH 35 SVRD NB</td>\n",
       "      <td>NaN</td>\n",
       "      <td>Theft</td>\n",
       "      <td>2015-10-27 00:00:00</td>\n",
       "      <td>2.015300e+10</td>\n",
       "      <td>3100630.0</td>\n",
       "      <td>10030282.0</td>\n",
       "      <td>2015.0</td>\n",
       "      <td>78744.0</td>\n",
       "      <td>Theft</td>\n",
       "    </tr>\n",
       "    <tr>\n",
       "      <th>293</th>\n",
       "      <td>(30.338618 -97.692566)</td>\n",
       "      <td>18.13</td>\n",
       "      <td>NaN</td>\n",
       "      <td>NaN</td>\n",
       "      <td>4.0</td>\n",
       "      <td>THEFT</td>\n",
       "      <td>I</td>\n",
       "      <td>30.338618</td>\n",
       "      <td>(30.338618-97.692566)</td>\n",
       "      <td>1030 NORWOOD PARK BLVD</td>\n",
       "      <td>-97.692566</td>\n",
       "      <td>Theft: All Other Larceny</td>\n",
       "      <td>2014-07-12 00:00:00</td>\n",
       "      <td>2.014503e+10</td>\n",
       "      <td>3129997.0</td>\n",
       "      <td>10096983.0</td>\n",
       "      <td>2014.0</td>\n",
       "      <td>78753.0</td>\n",
       "      <td>Theft</td>\n",
       "    </tr>\n",
       "    <tr>\n",
       "      <th>327</th>\n",
       "      <td>3600 PRESIDENTIAL BLVD Austin TX 78719</td>\n",
       "      <td>9800</td>\n",
       "      <td>NaN</td>\n",
       "      <td>NaN</td>\n",
       "      <td>2.0</td>\n",
       "      <td>THEFT FROM BUILDING</td>\n",
       "      <td>AP</td>\n",
       "      <td>NaN</td>\n",
       "      <td>NaN</td>\n",
       "      <td>3600 PRESIDENTIAL BLVD</td>\n",
       "      <td>NaN</td>\n",
       "      <td>Theft</td>\n",
       "      <td>2015-02-03 00:00:00</td>\n",
       "      <td>2.015500e+10</td>\n",
       "      <td>3138768.0</td>\n",
       "      <td>10047351.0</td>\n",
       "      <td>2015.0</td>\n",
       "      <td>78719.0</td>\n",
       "      <td>Theft</td>\n",
       "    </tr>\n",
       "  </tbody>\n",
       "</table>\n",
       "</div>"
      ],
      "text/plain": [
       "                                    address census_tract       clearance_date  \\\n",
       "123                  (30.412351 -97.707908)         18.5  2014-04-16 00:00:00   \n",
       "263   12900 N IH 35 SVRD SB Austin TX 78753        18.48  2015-04-21 00:00:00   \n",
       "268    9811 S IH 35 SVRD NB Austin TX 78744        24.25  2015-10-28 00:00:00   \n",
       "293                  (30.338618 -97.692566)        18.13                  NaN   \n",
       "327  3600 PRESIDENTIAL BLVD Austin TX 78719         9800                  NaN   \n",
       "\n",
       "      clearance_status  council_district_code          description district  \\\n",
       "123        Not cleared                    7.0                THEFT        A   \n",
       "263  Cleared by Arrest                    7.0                THEFT        E   \n",
       "268        Not cleared                    5.0                THEFT        F   \n",
       "293                NaN                    4.0                THEFT        I   \n",
       "327                NaN                    2.0  THEFT FROM BUILDING       AP   \n",
       "\n",
       "      latitude               location        location_description  longitude  \\\n",
       "123  30.412351  (30.412351-97.707908)  12221 N MOPAC EXPY SVRD NB -97.707908   \n",
       "263        NaN                    NaN       12900 N IH 35 SVRD SB        NaN   \n",
       "268        NaN                    NaN        9811 S IH 35 SVRD NB        NaN   \n",
       "293  30.338618  (30.338618-97.692566)      1030 NORWOOD PARK BLVD -97.692566   \n",
       "327        NaN                    NaN      3600 PRESIDENTIAL BLVD        NaN   \n",
       "\n",
       "                 primary_type            timestamp    unique_key  \\\n",
       "123  Theft: All Other Larceny  2014-04-15 00:00:00  2.014502e+10   \n",
       "263                     Theft  2015-04-04 00:00:00  2.015941e+09   \n",
       "268                     Theft  2015-10-27 00:00:00  2.015300e+10   \n",
       "293  Theft: All Other Larceny  2014-07-12 00:00:00  2.014503e+10   \n",
       "327                     Theft  2015-02-03 00:00:00  2.015500e+10   \n",
       "\n",
       "     x_coordinate  y_coordinate    year  zipcode  Crime  \n",
       "123     3124636.0    10124176.0  2014.0  78758.0  Theft  \n",
       "263     3134231.0    10124161.0  2015.0  78753.0  Theft  \n",
       "268     3100630.0    10030282.0  2015.0  78744.0  Theft  \n",
       "293     3129997.0    10096983.0  2014.0  78753.0  Theft  \n",
       "327     3138768.0    10047351.0  2015.0  78719.0  Theft  "
      ]
     },
     "execution_count": 203,
     "metadata": {},
     "output_type": "execute_result"
    }
   ],
   "source": [
    "fullMoonDF.head()"
   ]
  },
  {
   "cell_type": "code",
   "execution_count": 209,
   "metadata": {},
   "outputs": [
    {
     "ename": "TypeError",
     "evalue": "can't multiply sequence by non-int of type 'float'",
     "output_type": "error",
     "traceback": [
      "\u001b[0;31m---------------------------------------------------------------------------\u001b[0m",
      "\u001b[0;31mTypeError\u001b[0m                                 Traceback (most recent call last)",
      "\u001b[0;32m<ipython-input-209-03fdbe4e2e9b>\u001b[0m in \u001b[0;36m<module>\u001b[0;34m()\u001b[0m\n\u001b[1;32m      1\u001b[0m \u001b[0msns\u001b[0m\u001b[0;34m.\u001b[0m\u001b[0mset\u001b[0m\u001b[0;34m(\u001b[0m\u001b[0;34m)\u001b[0m\u001b[0;34m\u001b[0m\u001b[0m\n\u001b[1;32m      2\u001b[0m \u001b[0mplt\u001b[0m\u001b[0;34m.\u001b[0m\u001b[0mfigure\u001b[0m\u001b[0;34m(\u001b[0m\u001b[0mfigsize\u001b[0m\u001b[0;34m=\u001b[0m\u001b[0;34m(\u001b[0m\u001b[0;36m15\u001b[0m\u001b[0;34m,\u001b[0m\u001b[0;36m8\u001b[0m\u001b[0;34m)\u001b[0m\u001b[0;34m)\u001b[0m\u001b[0;34m\u001b[0m\u001b[0m\n\u001b[0;32m----> 3\u001b[0;31m \u001b[0msns\u001b[0m\u001b[0;34m.\u001b[0m\u001b[0mjointplot\u001b[0m\u001b[0;34m(\u001b[0m\u001b[0mx\u001b[0m\u001b[0;34m=\u001b[0m\u001b[0;34m'Crime'\u001b[0m\u001b[0;34m,\u001b[0m\u001b[0my\u001b[0m\u001b[0;34m=\u001b[0m\u001b[0;34m'year'\u001b[0m\u001b[0;34m,\u001b[0m\u001b[0mdata\u001b[0m\u001b[0;34m=\u001b[0m\u001b[0mfullMoonDF\u001b[0m\u001b[0;34m,\u001b[0m\u001b[0mkind\u001b[0m\u001b[0;34m=\u001b[0m\u001b[0;34m'scatter'\u001b[0m\u001b[0;34m)\u001b[0m\u001b[0;34m\u001b[0m\u001b[0m\n\u001b[0m",
      "\u001b[0;32m~/anaconda3/lib/python3.6/site-packages/seaborn/axisgrid.py\u001b[0m in \u001b[0;36mjointplot\u001b[0;34m(x, y, data, kind, stat_func, color, size, ratio, space, dropna, xlim, ylim, joint_kws, marginal_kws, annot_kws, **kwargs)\u001b[0m\n\u001b[1;32m   2227\u001b[0m         \u001b[0mmarginal_kws\u001b[0m\u001b[0;34m.\u001b[0m\u001b[0msetdefault\u001b[0m\u001b[0;34m(\u001b[0m\u001b[0;34m\"kde\"\u001b[0m\u001b[0;34m,\u001b[0m \u001b[0;32mFalse\u001b[0m\u001b[0;34m)\u001b[0m\u001b[0;34m\u001b[0m\u001b[0m\n\u001b[1;32m   2228\u001b[0m         \u001b[0mmarginal_kws\u001b[0m\u001b[0;34m.\u001b[0m\u001b[0msetdefault\u001b[0m\u001b[0;34m(\u001b[0m\u001b[0;34m\"color\"\u001b[0m\u001b[0;34m,\u001b[0m \u001b[0mcolor\u001b[0m\u001b[0;34m)\u001b[0m\u001b[0;34m\u001b[0m\u001b[0m\n\u001b[0;32m-> 2229\u001b[0;31m         \u001b[0mgrid\u001b[0m\u001b[0;34m.\u001b[0m\u001b[0mplot_marginals\u001b[0m\u001b[0;34m(\u001b[0m\u001b[0mdistplot\u001b[0m\u001b[0;34m,\u001b[0m \u001b[0;34m**\u001b[0m\u001b[0mmarginal_kws\u001b[0m\u001b[0;34m)\u001b[0m\u001b[0;34m\u001b[0m\u001b[0m\n\u001b[0m\u001b[1;32m   2230\u001b[0m \u001b[0;34m\u001b[0m\u001b[0m\n\u001b[1;32m   2231\u001b[0m     \u001b[0;32melif\u001b[0m \u001b[0mkind\u001b[0m\u001b[0;34m.\u001b[0m\u001b[0mstartswith\u001b[0m\u001b[0;34m(\u001b[0m\u001b[0;34m\"hex\"\u001b[0m\u001b[0;34m)\u001b[0m\u001b[0;34m:\u001b[0m\u001b[0;34m\u001b[0m\u001b[0m\n",
      "\u001b[0;32m~/anaconda3/lib/python3.6/site-packages/seaborn/axisgrid.py\u001b[0m in \u001b[0;36mplot_marginals\u001b[0;34m(self, func, **kwargs)\u001b[0m\n\u001b[1;32m   1761\u001b[0m         \u001b[0mkwargs\u001b[0m\u001b[0;34m[\u001b[0m\u001b[0;34m\"vertical\"\u001b[0m\u001b[0;34m]\u001b[0m \u001b[0;34m=\u001b[0m \u001b[0;32mFalse\u001b[0m\u001b[0;34m\u001b[0m\u001b[0m\n\u001b[1;32m   1762\u001b[0m         \u001b[0mplt\u001b[0m\u001b[0;34m.\u001b[0m\u001b[0msca\u001b[0m\u001b[0;34m(\u001b[0m\u001b[0mself\u001b[0m\u001b[0;34m.\u001b[0m\u001b[0max_marg_x\u001b[0m\u001b[0;34m)\u001b[0m\u001b[0;34m\u001b[0m\u001b[0m\n\u001b[0;32m-> 1763\u001b[0;31m         \u001b[0mfunc\u001b[0m\u001b[0;34m(\u001b[0m\u001b[0mself\u001b[0m\u001b[0;34m.\u001b[0m\u001b[0mx\u001b[0m\u001b[0;34m,\u001b[0m \u001b[0;34m**\u001b[0m\u001b[0mkwargs\u001b[0m\u001b[0;34m)\u001b[0m\u001b[0;34m\u001b[0m\u001b[0m\n\u001b[0m\u001b[1;32m   1764\u001b[0m \u001b[0;34m\u001b[0m\u001b[0m\n\u001b[1;32m   1765\u001b[0m         \u001b[0mkwargs\u001b[0m\u001b[0;34m[\u001b[0m\u001b[0;34m\"vertical\"\u001b[0m\u001b[0;34m]\u001b[0m \u001b[0;34m=\u001b[0m \u001b[0;32mTrue\u001b[0m\u001b[0;34m\u001b[0m\u001b[0m\n",
      "\u001b[0;32m~/anaconda3/lib/python3.6/site-packages/seaborn/distributions.py\u001b[0m in \u001b[0;36mdistplot\u001b[0;34m(a, bins, hist, kde, rug, fit, hist_kws, kde_kws, rug_kws, fit_kws, color, vertical, norm_hist, axlabel, label, ax)\u001b[0m\n\u001b[1;32m    206\u001b[0m     \u001b[0;32mif\u001b[0m \u001b[0mhist\u001b[0m\u001b[0;34m:\u001b[0m\u001b[0;34m\u001b[0m\u001b[0m\n\u001b[1;32m    207\u001b[0m         \u001b[0;32mif\u001b[0m \u001b[0mbins\u001b[0m \u001b[0;32mis\u001b[0m \u001b[0;32mNone\u001b[0m\u001b[0;34m:\u001b[0m\u001b[0;34m\u001b[0m\u001b[0m\n\u001b[0;32m--> 208\u001b[0;31m             \u001b[0mbins\u001b[0m \u001b[0;34m=\u001b[0m \u001b[0mmin\u001b[0m\u001b[0;34m(\u001b[0m\u001b[0m_freedman_diaconis_bins\u001b[0m\u001b[0;34m(\u001b[0m\u001b[0ma\u001b[0m\u001b[0;34m)\u001b[0m\u001b[0;34m,\u001b[0m \u001b[0;36m50\u001b[0m\u001b[0;34m)\u001b[0m\u001b[0;34m\u001b[0m\u001b[0m\n\u001b[0m\u001b[1;32m    209\u001b[0m         \u001b[0mhist_kws\u001b[0m\u001b[0;34m.\u001b[0m\u001b[0msetdefault\u001b[0m\u001b[0;34m(\u001b[0m\u001b[0;34m\"alpha\"\u001b[0m\u001b[0;34m,\u001b[0m \u001b[0;36m0.4\u001b[0m\u001b[0;34m)\u001b[0m\u001b[0;34m\u001b[0m\u001b[0m\n\u001b[1;32m    210\u001b[0m         \u001b[0mhist_kws\u001b[0m\u001b[0;34m.\u001b[0m\u001b[0msetdefault\u001b[0m\u001b[0;34m(\u001b[0m\u001b[0;34m\"normed\"\u001b[0m\u001b[0;34m,\u001b[0m \u001b[0mnorm_hist\u001b[0m\u001b[0;34m)\u001b[0m\u001b[0;34m\u001b[0m\u001b[0m\n",
      "\u001b[0;32m~/anaconda3/lib/python3.6/site-packages/seaborn/distributions.py\u001b[0m in \u001b[0;36m_freedman_diaconis_bins\u001b[0;34m(a)\u001b[0m\n\u001b[1;32m     27\u001b[0m     \u001b[0;31m# From http://stats.stackexchange.com/questions/798/\u001b[0m\u001b[0;34m\u001b[0m\u001b[0;34m\u001b[0m\u001b[0m\n\u001b[1;32m     28\u001b[0m     \u001b[0ma\u001b[0m \u001b[0;34m=\u001b[0m \u001b[0mnp\u001b[0m\u001b[0;34m.\u001b[0m\u001b[0masarray\u001b[0m\u001b[0;34m(\u001b[0m\u001b[0ma\u001b[0m\u001b[0;34m)\u001b[0m\u001b[0;34m\u001b[0m\u001b[0m\n\u001b[0;32m---> 29\u001b[0;31m     \u001b[0mh\u001b[0m \u001b[0;34m=\u001b[0m \u001b[0;36m2\u001b[0m \u001b[0;34m*\u001b[0m \u001b[0miqr\u001b[0m\u001b[0;34m(\u001b[0m\u001b[0ma\u001b[0m\u001b[0;34m)\u001b[0m \u001b[0;34m/\u001b[0m \u001b[0;34m(\u001b[0m\u001b[0mlen\u001b[0m\u001b[0;34m(\u001b[0m\u001b[0ma\u001b[0m\u001b[0;34m)\u001b[0m \u001b[0;34m**\u001b[0m \u001b[0;34m(\u001b[0m\u001b[0;36m1\u001b[0m \u001b[0;34m/\u001b[0m \u001b[0;36m3\u001b[0m\u001b[0;34m)\u001b[0m\u001b[0;34m)\u001b[0m\u001b[0;34m\u001b[0m\u001b[0m\n\u001b[0m\u001b[1;32m     30\u001b[0m     \u001b[0;31m# fall back to sqrt(a) bins if iqr is 0\u001b[0m\u001b[0;34m\u001b[0m\u001b[0;34m\u001b[0m\u001b[0m\n\u001b[1;32m     31\u001b[0m     \u001b[0;32mif\u001b[0m \u001b[0mh\u001b[0m \u001b[0;34m==\u001b[0m \u001b[0;36m0\u001b[0m\u001b[0;34m:\u001b[0m\u001b[0;34m\u001b[0m\u001b[0m\n",
      "\u001b[0;32m~/anaconda3/lib/python3.6/site-packages/seaborn/utils.py\u001b[0m in \u001b[0;36miqr\u001b[0;34m(a)\u001b[0m\n\u001b[1;32m    330\u001b[0m     \u001b[0;34m\"\"\"Calculate the IQR for an array of numbers.\"\"\"\u001b[0m\u001b[0;34m\u001b[0m\u001b[0m\n\u001b[1;32m    331\u001b[0m     \u001b[0ma\u001b[0m \u001b[0;34m=\u001b[0m \u001b[0mnp\u001b[0m\u001b[0;34m.\u001b[0m\u001b[0masarray\u001b[0m\u001b[0;34m(\u001b[0m\u001b[0ma\u001b[0m\u001b[0;34m)\u001b[0m\u001b[0;34m\u001b[0m\u001b[0m\n\u001b[0;32m--> 332\u001b[0;31m     \u001b[0mq1\u001b[0m \u001b[0;34m=\u001b[0m \u001b[0mstats\u001b[0m\u001b[0;34m.\u001b[0m\u001b[0mscoreatpercentile\u001b[0m\u001b[0;34m(\u001b[0m\u001b[0ma\u001b[0m\u001b[0;34m,\u001b[0m \u001b[0;36m25\u001b[0m\u001b[0;34m)\u001b[0m\u001b[0;34m\u001b[0m\u001b[0m\n\u001b[0m\u001b[1;32m    333\u001b[0m     \u001b[0mq3\u001b[0m \u001b[0;34m=\u001b[0m \u001b[0mstats\u001b[0m\u001b[0;34m.\u001b[0m\u001b[0mscoreatpercentile\u001b[0m\u001b[0;34m(\u001b[0m\u001b[0ma\u001b[0m\u001b[0;34m,\u001b[0m \u001b[0;36m75\u001b[0m\u001b[0;34m)\u001b[0m\u001b[0;34m\u001b[0m\u001b[0m\n\u001b[1;32m    334\u001b[0m     \u001b[0;32mreturn\u001b[0m \u001b[0mq3\u001b[0m \u001b[0;34m-\u001b[0m \u001b[0mq1\u001b[0m\u001b[0;34m\u001b[0m\u001b[0m\n",
      "\u001b[0;32m~/anaconda3/lib/python3.6/site-packages/scipy/stats/stats.py\u001b[0m in \u001b[0;36mscoreatpercentile\u001b[0;34m(a, per, limit, interpolation_method, axis)\u001b[0m\n\u001b[1;32m   1588\u001b[0m         \u001b[0maxis\u001b[0m \u001b[0;34m=\u001b[0m \u001b[0;36m0\u001b[0m\u001b[0;34m\u001b[0m\u001b[0m\n\u001b[1;32m   1589\u001b[0m \u001b[0;34m\u001b[0m\u001b[0m\n\u001b[0;32m-> 1590\u001b[0;31m     \u001b[0;32mreturn\u001b[0m \u001b[0m_compute_qth_percentile\u001b[0m\u001b[0;34m(\u001b[0m\u001b[0msorted\u001b[0m\u001b[0;34m,\u001b[0m \u001b[0mper\u001b[0m\u001b[0;34m,\u001b[0m \u001b[0minterpolation_method\u001b[0m\u001b[0;34m,\u001b[0m \u001b[0maxis\u001b[0m\u001b[0;34m)\u001b[0m\u001b[0;34m\u001b[0m\u001b[0m\n\u001b[0m\u001b[1;32m   1591\u001b[0m \u001b[0;34m\u001b[0m\u001b[0m\n\u001b[1;32m   1592\u001b[0m \u001b[0;34m\u001b[0m\u001b[0m\n",
      "\u001b[0;32m~/anaconda3/lib/python3.6/site-packages/scipy/stats/stats.py\u001b[0m in \u001b[0;36m_compute_qth_percentile\u001b[0;34m(sorted, per, interpolation_method, axis)\u001b[0m\n\u001b[1;32m   1631\u001b[0m \u001b[0;34m\u001b[0m\u001b[0m\n\u001b[1;32m   1632\u001b[0m     \u001b[0;31m# Use np.add.reduce (== np.sum but a little faster) to coerce data type\u001b[0m\u001b[0;34m\u001b[0m\u001b[0;34m\u001b[0m\u001b[0m\n\u001b[0;32m-> 1633\u001b[0;31m     \u001b[0;32mreturn\u001b[0m \u001b[0mnp\u001b[0m\u001b[0;34m.\u001b[0m\u001b[0madd\u001b[0m\u001b[0;34m.\u001b[0m\u001b[0mreduce\u001b[0m\u001b[0;34m(\u001b[0m\u001b[0msorted\u001b[0m\u001b[0;34m[\u001b[0m\u001b[0mindexer\u001b[0m\u001b[0;34m]\u001b[0m \u001b[0;34m*\u001b[0m \u001b[0mweights\u001b[0m\u001b[0;34m,\u001b[0m \u001b[0maxis\u001b[0m\u001b[0;34m=\u001b[0m\u001b[0maxis\u001b[0m\u001b[0;34m)\u001b[0m \u001b[0;34m/\u001b[0m \u001b[0msumval\u001b[0m\u001b[0;34m\u001b[0m\u001b[0m\n\u001b[0m\u001b[1;32m   1634\u001b[0m \u001b[0;34m\u001b[0m\u001b[0m\n\u001b[1;32m   1635\u001b[0m \u001b[0;34m\u001b[0m\u001b[0m\n",
      "\u001b[0;31mTypeError\u001b[0m: can't multiply sequence by non-int of type 'float'"
     ]
    },
    {
     "data": {
      "text/plain": [
       "<matplotlib.figure.Figure at 0x1a21ac6588>"
      ]
     },
     "metadata": {},
     "output_type": "display_data"
    },
    {
     "data": {
      "image/png": "[encoded data removed]",
      "text/plain": [
       "<matplotlib.figure.Figure at 0x1a242c0da0>"
      ]
     },
     "metadata": {},
     "output_type": "display_data"
    }
   ],
   "source": [
    "sns.set()\n",
    "plt.figure(figsize=(15,8))\n",
    "sns.jointplot(x='Crime',y='year',data=fullMoonDF,kind='scatter')"
   ]
  },
  {
   "cell_type": "code",
   "execution_count": null,
   "metadata": {
    "collapsed": true
   },
   "outputs": [],
   "source": []
  }
 ],
 "metadata": {
  "kernelspec": {
   "display_name": "Python 3",
   "language": "python",
   "name": "python3"
  },
  "language_info": {
   "codemirror_mode": {
    "name": "ipython",
    "version": 3
   },
   "file_extension": ".py",
   "mimetype": "text/x-python",
   "name": "python",
   "nbconvert_exporter": "python",
   "pygments_lexer": "ipython3",
   "version": "3.6.3"
  }
 },
 "nbformat": 4,
 "nbformat_minor": 2
}
